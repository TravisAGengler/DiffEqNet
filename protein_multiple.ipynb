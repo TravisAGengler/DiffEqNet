{
 "cells": [
  {
   "cell_type": "markdown",
   "metadata": {},
   "source": [
    "# Drosophila protein regulation model"
   ]
  },
  {
   "cell_type": "code",
   "execution_count": null,
   "metadata": {},
   "outputs": [],
   "source": [
    "include(\"drosophila_multiple.jl\")\n",
    "\n",
    "# These define the initial conditions of each of the runs\n",
    "# They also dictate the number of protiens to model. \n",
    "# You should include at least 2 initial conditions\n",
    "u0_1 = [0.2, 0.5]\n",
    "u0_2 = [0.6, 0.3] \n",
    "\n",
    "drosophila_regulation.train_bistable_model_with_params([u0_1, u0_2])"
   ]
  },
  {
   "cell_type": "code",
   "execution_count": null,
   "metadata": {},
   "outputs": [],
   "source": [
    "# These define the initial conditions of each of the runs\n",
    "# They also dictate the number of protiens to model. \n",
    "# You should include at least 2 initial conditionsu0_1 = [0.5, 0.5]\n",
    "u0_2 = [0.4, 0.6] \n",
    "\n",
    "drosophila_regulation.train_mutual_inhib_model_with_params([u0_1, u0_2])"
   ]
  }
 ],
 "metadata": {
  "kernelspec": {
   "display_name": "Julia 1.4.1",
   "language": "julia",
   "name": "julia-1.4"
  },
  "language_info": {
   "file_extension": ".jl",
   "mimetype": "application/julia",
   "name": "julia",
   "version": "1.4.2"
  }
 },
 "nbformat": 4,
 "nbformat_minor": 4
}
